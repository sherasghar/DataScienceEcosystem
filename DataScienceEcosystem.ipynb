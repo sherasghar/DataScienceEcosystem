{
 "cells": [
  {
   "cell_type": "markdown",
   "id": "af8d70d4-20f2-4b0b-8ed8-0b97abd3db8f",
   "metadata": {},
   "source": [
    "H1:Data Science Tools and Ecosystem"
   ]
  },
  {
   "cell_type": "markdown",
   "id": "8ebe8916-3414-4379-a173-cc6dbe3dba10",
   "metadata": {},
   "source": [
    "In this notebook, Data Science lessions are thought and their ecosystem"
   ]
  },
  {
   "attachments": {},
   "cell_type": "markdown",
   "id": "dec0702b-7d11-4a8b-9c08-6c1f21dcaf97",
   "metadata": {},
   "source": [
    "Popular languages for Data Science are:\n",
    "1. Python\n",
    "2. R\n",
    "3. C++"
   ]
  },
  {
   "cell_type": "markdown",
   "id": "abb03199-7afd-4be9-9b0e-b4411cd15090",
   "metadata": {},
   "source": [
    "Some common libraries used by Data Scientist are:\n",
    "1. Panda\n",
    "2. Numpy\n",
    "3. Matplotlab\n",
    "4. ggplot"
   ]
  },
  {
   "cell_type": "markdown",
   "id": "9ed7b620-7dbc-4526-9608-a245c234c93c",
   "metadata": {},
   "source": [
    "|Data Science Tools|\n",
    "|------------------|\n",
    "|Python Language|\n",
    "|R Languages|\n",
    "|Git and GitHub|"
   ]
  },
  {
   "cell_type": "markdown",
   "id": "1bd28b57-4a34-4263-9fea-773c2974d117",
   "metadata": {},
   "source": [
    "Below are a few examples of evaluating arithmetic expressions in Python"
   ]
  },
  {
   "cell_type": "code",
   "execution_count": 12,
   "id": "7bef60b6-af19-4b95-9e0b-59331289f115",
   "metadata": {},
   "outputs": [],
   "source": [
    " #This a simple arithmetic expression to mutiply then add integers"
   ]
  },
  {
   "cell_type": "code",
   "execution_count": 14,
   "id": "5603e803-4430-41ee-a3a4-e09c0cf6c5aa",
   "metadata": {},
   "outputs": [
    {
     "data": {
      "text/plain": [
       "17"
      ]
     },
     "execution_count": 14,
     "metadata": {},
     "output_type": "execute_result"
    }
   ],
   "source": [
    "(3*4)+5"
   ]
  },
  {
   "cell_type": "code",
   "execution_count": 17,
   "id": "23d64711-fee1-4a5e-81a1-5931488fd89d",
   "metadata": {},
   "outputs": [],
   "source": [
    "#This will convert 200 minutes to hours by diving by 60"
   ]
  },
  {
   "cell_type": "code",
   "execution_count": 19,
   "id": "45fe27d6-68a9-454d-8022-792c940bd94e",
   "metadata": {},
   "outputs": [
    {
     "data": {
      "text/plain": [
       "3.3333333333333335"
      ]
     },
     "execution_count": 19,
     "metadata": {},
     "output_type": "execute_result"
    }
   ],
   "source": [
    "200/60"
   ]
  },
  {
   "cell_type": "markdown",
   "id": "20f4437b-20a1-449c-9d18-258bd18e5ce3",
   "metadata": {},
   "source": [
    "**Objectives: This course is very informative and good choice for data science enthusiasts.**\n",
    "1. Python\n",
    "2. R language\n",
    "3. Git and GitHub"
   ]
  },
  {
   "cell_type": "markdown",
   "id": "0d09b0db-e58c-4520-97cd-0f5c82846dbe",
   "metadata": {},
   "source": [
    "H2: Author: Sher Asghar"
   ]
  },
  {
   "cell_type": "code",
   "execution_count": null,
   "id": "17a655f7-c99d-44b3-a7c8-53bfd329d5bb",
   "metadata": {},
   "outputs": [],
   "source": []
  }
 ],
 "metadata": {
  "kernelspec": {
   "display_name": "Python [conda env:base] *",
   "language": "python",
   "name": "conda-base-py"
  },
  "language_info": {
   "codemirror_mode": {
    "name": "ipython",
    "version": 3
   },
   "file_extension": ".py",
   "mimetype": "text/x-python",
   "name": "python",
   "nbconvert_exporter": "python",
   "pygments_lexer": "ipython3",
   "version": "3.12.7"
  }
 },
 "nbformat": 4,
 "nbformat_minor": 5
}
